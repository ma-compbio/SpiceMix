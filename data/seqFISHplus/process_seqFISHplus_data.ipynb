{
 "cells": [
  {
   "cell_type": "code",
   "execution_count": 1,
   "metadata": {},
   "outputs": [],
   "source": [
    "import pandas as pd\n",
    "import numpy as np\n",
    "from tqdm.auto import tqdm\n",
    "from matplotlib import pyplot as plt\n",
    "from scipy.stats import fisher_exact, hypergeom\n",
    "from sklearn.metrics import confusion_matrix\n",
    "from sklearn.decomposition import PCA, NMF\n",
    "from sklearn.preprocessing import StandardScaler\n",
    "import pickle\n",
    "import scipy.spatial\n",
    "# import networkx as nx\n",
    "import seaborn as sns\n",
    "import anndata\n",
    "import scanpy as sc"
   ]
  },
  {
   "cell_type": "code",
   "execution_count": 2,
   "metadata": {},
   "outputs": [],
   "source": [
    "# tissue = 'ob'\n",
    "tissue = 'cortex_svz'"
   ]
  },
  {
   "cell_type": "code",
   "execution_count": 3,
   "metadata": {},
   "outputs": [
    {
     "name": "stdout",
     "output_type": "stream",
     "text": [
      "(913, 10000)\n"
     ]
    }
   ],
   "source": [
    "df = pd.read_csv(f'../original_files/sourcedata/{tissue}_counts.csv')\n",
    "gene_name = df.columns.values\n",
    "expression = df.values\n",
    "print(expression.shape)\n",
    "del df"
   ]
  },
  {
   "cell_type": "code",
   "execution_count": 4,
   "metadata": {},
   "outputs": [
    {
     "name": "stdout",
     "output_type": "stream",
     "text": [
      "(913, 6)\n",
      "Index(['Field of View', 'Cell ID', 'X', 'Y', 'Region', 'louvain'], dtype='object')\n",
      "7\n"
     ]
    }
   ],
   "source": [
    "df = pd.read_csv(f'../original_files/sourcedata/{tissue}_cellcentroids.csv')\n",
    "df_ann = pd.read_csv(f'../original_files/celltype_annotations/{tissue}_cell_type_annotations.csv')\n",
    "df = pd.concat([df, df_ann['louvain']], axis=1)\n",
    "del df_ann\n",
    "print(df.shape)\n",
    "print(df.columns)\n",
    "df_group = df.groupby('Field of View', axis=0)\n",
    "print(len(df_group))"
   ]
  },
  {
   "cell_type": "code",
   "execution_count": 5,
   "metadata": {},
   "outputs": [
    {
     "data": {
      "text/plain": [
       "louvain\n",
       "1     99\n",
       "2     68\n",
       "3     55\n",
       "4     53\n",
       "5     51\n",
       "6     48\n",
       "7     42\n",
       "8     40\n",
       "9     39\n",
       "10    38\n",
       "11    37\n",
       "12    36\n",
       "13    29\n",
       "14    28\n",
       "15    28\n",
       "16    26\n",
       "17    26\n",
       "18    25\n",
       "19    24\n",
       "20    23\n",
       "21    21\n",
       "22    20\n",
       "23    18\n",
       "24    17\n",
       "25    15\n",
       "26     7\n",
       "dtype: int64"
      ]
     },
     "execution_count": 5,
     "metadata": {},
     "output_type": "execute_result"
    }
   ],
   "source": [
    "df.groupby('louvain').size()"
   ]
  },
  {
   "cell_type": "code",
   "execution_count": 7,
   "metadata": {},
   "outputs": [
    {
     "name": "stdout",
     "output_type": "stream",
     "text": [
      "# = 2470\n",
      "cortex_n0_0.4\n"
     ]
    },
    {
     "data": {
      "image/png": "[encoded data removed]",
      "text/plain": [
       "<Figure size 1080x432 with 2 Axes>"
      ]
     },
     "metadata": {
      "needs_background": "light"
     },
     "output_type": "display_data"
    }
   ],
   "source": [
    "nonzero_threshold = .4\n",
    "gene_str = f'cortex_n0_{nonzero_threshold:.1f}'\n",
    "gene_idx = (expression[df['Field of View'].values < 5] != 0).mean(0) > nonzero_threshold\n",
    "print(f'# = {gene_idx.sum()}')\n",
    "\n",
    "expr_processed = expression / expression.sum(1, keepdims=True) * 1e4\n",
    "expr_processed = np.log1p(expr_processed)\n",
    "# expr_processed = np.log1p(expr_norm)\n",
    "# gene_str += '_NormPerCell1e4'\n",
    "print(gene_str)\n",
    "\n",
    "fig, axes = plt.subplots(1, 2, figsize=(15, 6))\n",
    "axes[0].hist(expr_processed[:, gene_idx].ravel(), density=True, bins=20)\n",
    "axes[0].set_yscale('log')\n",
    "avg = np.expm1(expr_processed[:, gene_idx]).mean(0)\n",
    "var = np.expm1(expr_processed[:, gene_idx]).var(0)\n",
    "# avg = expression[:, gene_idx].mean(0)\n",
    "# std = expression[:, gene_idx].std(0)\n",
    "axes[1].scatter(avg, var/avg)\n",
    "axes[1].set_xscale('log')\n",
    "axes[1].set_yscale('log')"
   ]
  },
  {
   "cell_type": "code",
   "execution_count": 8,
   "metadata": {},
   "outputs": [
    {
     "data": {
      "text/plain": [
       "Field of View  Region        \n",
       "0              Cortex            118\n",
       "1              Cortex            108\n",
       "2              Cortex             90\n",
       "3              Cortex            106\n",
       "4              Cortex            101\n",
       "5              Cortex              1\n",
       "               SVZ               280\n",
       "6              Choroid Plexus    109\n",
       "dtype: int64"
      ]
     },
     "execution_count": 8,
     "metadata": {},
     "output_type": "execute_result"
    }
   ],
   "source": [
    "df.groupby(['Field of View', 'Region']).size()"
   ]
  },
  {
   "cell_type": "code",
   "execution_count": 11,
   "metadata": {},
   "outputs": [
    {
     "name": "stdout",
     "output_type": "stream",
     "text": [
      "min = 0, mean = 5.2, median = 5.0, max = 8; # = 118, #0 = 1\n",
      "min = 1, mean = 5.0, median = 5.0, max = 8; # = 108, #0 = 0\n",
      "min = 1, mean = 4.9, median = 5.0, max = 8; # = 90, #0 = 0\n",
      "min = 1, mean = 5.1, median = 5.0, max = 8; # = 106, #0 = 0\n",
      "min = 1, mean = 5.1, median = 5.0, max = 8; # = 101, #0 = 0\n",
      "min = 2, mean = 5.7, median = 6.0, max = 9; # = 281, #0 = 0\n",
      "min = 1, mean = 5.0, median = 5.0, max = 8; # = 109, #0 = 0\n"
     ]
    }
   ],
   "source": [
    "Es = []\n",
    "# neighbor_method_str = 'KNN graph'\n",
    "neighbor_method_str = 'Delaunay'\n",
    "if neighbor_method_str == 'KNN graph':\n",
    "    radius = 40\n",
    "    n_neighbors = 5\n",
    "    neighbor_str = f'r{radius}_n{n_neighbors}'\n",
    "elif neighbor_method_str == 'Delaunay':\n",
    "    radius = 300\n",
    "    neighbor_str = f'Delaunay_r{radius}'\n",
    "else:\n",
    "    assert False\n",
    "for key, d in df_group:\n",
    "    X = d[['X', 'Y']].values\n",
    "    if neighbor_method_str == 'KNN graph':\n",
    "        nbrs = sklearn.neighbors.NearestNeighbors(\n",
    "            n_neighbors=n_neighbors,\n",
    "            radius=radius,\n",
    "            metric='euclidean',\n",
    "        ).fit(X)\n",
    "    #     dists, E = nbrs.radius_neighbors(X)\n",
    "        dist, E = nbrs.kneighbors()\n",
    "        E = [[v for d, v in zip(disti, Ei) if d <= radius] for disti, Ei in zip(dist, E)]\n",
    "        E = [set(list(e)) for e in E]\n",
    "        for u, Eu in enumerate(E):\n",
    "            for v in Eu:\n",
    "                E[v] |= {u}\n",
    "    elif neighbor_method_str == 'Delaunay':\n",
    "        E = [set() for _ in X]\n",
    "        tri = scipy.spatial.Delaunay(X)\n",
    "        for simplex in tri.simplices:\n",
    "            simplex = set(list(simplex))\n",
    "            for u in simplex:\n",
    "                E[u] |= simplex\n",
    "        for u in range(len(X)):\n",
    "            E[u] -= {u}\n",
    "            E[u] = set([v for v in E[u] if np.linalg.norm(X[u] - X[v]) <= radius])\n",
    "    else:\n",
    "        assert False\n",
    "    Es.append(E)\n",
    "    assert all(i in E[j] for i, e in enumerate(E) for j in e)\n",
    "    l = np.array(list(map(len, E)))\n",
    "    print(\n",
    "        f'min = {l.min()}, mean = {l.mean():.1f}, median = {np.median(l)}, max = {l.max()}; '\n",
    "        f'# = {len(X)}, #0 = {(l==0).sum()}')"
   ]
  },
  {
   "cell_type": "code",
   "execution_count": 8,
   "metadata": {},
   "outputs": [
    {
     "name": "stdout",
     "output_type": "stream",
     "text": [
      "0 118\n",
      "1 108\n",
      "2 90\n",
      "3 106\n",
      "4 101\n",
      "5 281\n",
      "6 109\n"
     ]
    }
   ],
   "source": [
    "with open(f'../files/genes_{gene_str}.txt', 'w') as f:\n",
    "    for g in gene_name[gene_idx]: f.write(g + '\\n')\n",
    "with open(f'../files/genes_all.txt', 'w') as f:\n",
    "    for g in gene_name: f.write(g + '\\n')\n",
    "for (fov, cell_idx), (key, df_fov), E in zip(df_group.groups.items(), df_group, Es):\n",
    "    print(fov, len(cell_idx))\n",
    "    with open(f'../files/coordinates_{fov}.pkl', 'wb') as f: pickle.dump(df_fov[['X', 'Y']].values, f)\n",
    "    with open(f'../files/expression_{fov}_{gene_str}.pkl', 'wb') as f: pickle.dump(expr_processed[cell_idx][:, gene_idx], f)\n",
    "    with open(f'../files/expression_{fov}_all.pkl', 'wb') as f: pickle.dump(expr_processed[cell_idx], f)\n",
    "    with open(f'../files/expression_{fov}_raw.pkl', 'wb') as f: pickle.dump(expression[cell_idx], f)\n",
    "    with open(f'../files/cell_types_{fov}.txt', 'w') as f: f.write('\\n'.join(map(str, df_fov['louvain'].tolist())) + '\\n')\n",
    "    d = df_fov[['Field of View', 'X', 'Y', 'Region', 'louvain']].copy()\n",
    "    d.columns = ['Field of View', 'coor X', 'coor Y', 'Region', 'louvain']\n",
    "    d.to_csv(f'../files/meta_{fov}.csv')\n",
    "    with open(f'../files/neighborhood_{fov}_{neighbor_str}.txt', 'w') as f:\n",
    "        for u, e in enumerate(E):\n",
    "            for v in e:\n",
    "                if u >= v: continue\n",
    "                f.write(f'{u}\\t{v}\\n')"
   ]
  },
  {
   "cell_type": "code",
   "execution_count": null,
   "metadata": {},
   "outputs": [],
   "source": []
  }
 ],
 "metadata": {
  "kernelspec": {
   "display_name": "Python 3 (ipykernel)",
   "language": "python",
   "name": "python3"
  },
  "language_info": {
   "codemirror_mode": {
    "name": "ipython",
    "version": 3
   },
   "file_extension": ".py",
   "mimetype": "text/x-python",
   "name": "python",
   "nbconvert_exporter": "python",
   "pygments_lexer": "ipython3",
   "version": "3.9.9"
  }
 },
 "nbformat": 4,
 "nbformat_minor": 2
}
